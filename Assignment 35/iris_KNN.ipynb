{
 "cells": [
  {
   "cell_type": "code",
   "execution_count": 5,
   "id": "4fa29180-e9fd-4fe2-9a61-18b60a944477",
   "metadata": {},
   "outputs": [],
   "source": [
    "from sklearn.datasets import load_iris\n",
    "import numpy as np\n",
    "import matplotlib.pyplot as plt\n",
    "from sklearn.model_selection import train_test_split\n",
    "from sklearn.neighbors import KNeighborsClassifier"
   ]
  },
  {
   "cell_type": "code",
   "execution_count": 2,
   "id": "05b014b2-7ff6-4a0d-ab38-83298c30b758",
   "metadata": {},
   "outputs": [],
   "source": [
    "data = load_iris()"
   ]
  },
  {
   "cell_type": "code",
   "execution_count": 3,
   "id": "586cb7b9-2d4b-4b0f-bdab-3bf96c655ae3",
   "metadata": {},
   "outputs": [],
   "source": [
    "x = data.data\n",
    "y = data.target"
   ]
  },
  {
   "cell_type": "code",
   "execution_count": 6,
   "id": "1faaaf8d-2195-4115-a8f2-018a59abfca5",
   "metadata": {},
   "outputs": [],
   "source": [
    "x_train , x_test , y_train , y_test = train_test_split(x, y, test_size=0.2, random_state=10)"
   ]
  },
  {
   "cell_type": "code",
   "execution_count": 8,
   "id": "d93f9576-c394-4375-9884-4ebdd7a1ba2f",
   "metadata": {},
   "outputs": [],
   "source": [
    "K = [1,3,5,7,9,11,13]\n",
    "evaluateList = []\n",
    "for i in K :\n",
    "    KNN = KNeighborsClassifier(i)\n",
    "    KNN.fit(x_train, y_train)\n",
    "    y_predict = KNN.predict(x_test)\n",
    "    evaluate = (y_predict == y_test).sum()/len(y_test)\n",
    "    evaluateList.append(evaluate)"
   ]
  },
  {
   "cell_type": "code",
   "execution_count": 12,
   "id": "896e0428-4a2d-4619-a7a5-893f95921743",
   "metadata": {},
   "outputs": [
    {
     "data": {
      "image/png": "[encoded data removed]",
      "text/plain": [
       "<Figure size 432x288 with 1 Axes>"
      ]
     },
     "metadata": {
      "needs_background": "light"
     },
     "output_type": "display_data"
    }
   ],
   "source": [
    "plt.bar(K, evaluateList)\n",
    "plt.title(\"Accuracy for KNN\")\n",
    "plt.show()"
   ]
  },
  {
   "cell_type": "code",
   "execution_count": null,
   "id": "f2a87ad7-5e8a-412e-b27c-f5480d21e16f",
   "metadata": {},
   "outputs": [],
   "source": []
  }
 ],
 "metadata": {
  "kernelspec": {
   "display_name": "Python 3 (ipykernel)",
   "language": "python",
   "name": "python3"
  },
  "language_info": {
   "codemirror_mode": {
    "name": "ipython",
    "version": 3
   },
   "file_extension": ".py",
   "mimetype": "text/x-python",
   "name": "python",
   "nbconvert_exporter": "python",
   "pygments_lexer": "ipython3",
   "version": "3.10.2"
  }
 },
 "nbformat": 4,
 "nbformat_minor": 5
}
